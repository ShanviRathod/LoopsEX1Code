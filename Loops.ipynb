{
 "cells": [
  {
   "cell_type": "code",
   "execution_count": 1,
   "id": "19f63998",
   "metadata": {},
   "outputs": [
    {
     "name": "stdout",
     "output_type": "stream",
     "text": [
      "-1\n",
      "0\n",
      "1\n",
      "2\n",
      "3\n",
      "4\n",
      "5\n",
      "6\n",
      "7\n",
      "8\n",
      "9\n",
      "10\n"
     ]
    }
   ],
   "source": [
    "# ques1. wap to print -1 to 10\n",
    "for i in range(-1,11):          #--------bydefoult 1 increment hota he\n",
    "    print(i)\n",
    "    "
   ]
  },
  {
   "cell_type": "code",
   "execution_count": 2,
   "id": "a81a4b0f",
   "metadata": {},
   "outputs": [
    {
     "name": "stdout",
     "output_type": "stream",
     "text": [
      "-1\n",
      "0\n",
      "1\n",
      "2\n",
      "3\n",
      "4\n",
      "5\n",
      "6\n",
      "7\n",
      "8\n",
      "9\n",
      "10\n"
     ]
    }
   ],
   "source": [
    "x=-1\n",
    "while x<=10:  #while ya for loop condition true pr hi excute krta opration\n",
    "    print(x)\n",
    "    x=x+1"
   ]
  },
  {
   "cell_type": "code",
   "execution_count": 3,
   "id": "5fe2acf3",
   "metadata": {},
   "outputs": [
    {
     "name": "stdout",
     "output_type": "stream",
     "text": [
      "-1\n",
      "-2\n",
      "-3\n",
      "-4\n",
      "-5\n",
      "-6\n",
      "-7\n",
      "-8\n",
      "-9\n",
      "-10\n"
     ]
    }
   ],
   "source": [
    "# ques2. wap to print -1 to -10\n",
    "for i in range(-1,-11,-1):     #----------direction denote krne k liye - minus sign ka use krte he\n",
    "    print(i)"
   ]
  },
  {
   "cell_type": "code",
   "execution_count": 4,
   "id": "82532cb3",
   "metadata": {},
   "outputs": [
    {
     "name": "stdout",
     "output_type": "stream",
     "text": [
      "-1\n",
      "-2\n",
      "-3\n",
      "-4\n",
      "-5\n",
      "-6\n",
      "-7\n",
      "-8\n",
      "-9\n",
      "-10\n"
     ]
    }
   ],
   "source": [
    "x=-1\n",
    "while x>-11:\n",
    "    print(x)\n",
    "    x=x-1\n"
   ]
  },
  {
   "cell_type": "code",
   "execution_count": 5,
   "id": "17285231",
   "metadata": {},
   "outputs": [
    {
     "name": "stdout",
     "output_type": "stream",
     "text": [
      "1\n",
      "0\n",
      "-1\n",
      "-2\n",
      "-3\n",
      "-4\n",
      "-5\n",
      "-6\n",
      "-7\n",
      "-8\n",
      "-9\n",
      "-10\n"
     ]
    }
   ],
   "source": [
    "# wap to print 1 to -10\n",
    "for i in range(1,-11,-1):\n",
    "    print(i)"
   ]
  },
  {
   "cell_type": "code",
   "execution_count": 6,
   "id": "9e09b138",
   "metadata": {},
   "outputs": [
    {
     "name": "stdout",
     "output_type": "stream",
     "text": [
      "1\n",
      "0\n",
      "-1\n",
      "-2\n",
      "-3\n",
      "-4\n",
      "-5\n",
      "-6\n",
      "-7\n",
      "-8\n",
      "-9\n",
      "-10\n"
     ]
    }
   ],
   "source": [
    "x=1\n",
    "while x>-11:\n",
    "    print(x)\n",
    "    x=x-1"
   ]
  },
  {
   "cell_type": "code",
   "execution_count": 3,
   "id": "b5cd80e3",
   "metadata": {},
   "outputs": [
    {
     "name": "stdout",
     "output_type": "stream",
     "text": [
      "2\n",
      "4\n",
      "6\n",
      "8\n",
      "10\n",
      "12\n",
      "14\n",
      "16\n",
      "18\n",
      "20\n",
      "22\n",
      "24\n",
      "26\n",
      "28\n",
      "30\n",
      "32\n",
      "34\n",
      "36\n",
      "38\n",
      "40\n",
      "42\n",
      "44\n",
      "46\n",
      "48\n",
      "50\n",
      "count--------> 25\n"
     ]
    }
   ],
   "source": [
    "# wap to print even number from 1 to 50\n",
    "count=0\n",
    "for i in range(1,51):\n",
    "    if i%2==0:\n",
    "        print(i)\n",
    "        count=count+1\n",
    "print(\"count-------->\",count)\n",
    "    "
   ]
  },
  {
   "cell_type": "code",
   "execution_count": 4,
   "id": "924b1f1e",
   "metadata": {},
   "outputs": [
    {
     "name": "stdout",
     "output_type": "stream",
     "text": [
      "2\n",
      "4\n",
      "6\n",
      "8\n",
      "10\n",
      "12\n",
      "14\n",
      "16\n",
      "18\n",
      "20\n",
      "22\n",
      "24\n",
      "26\n",
      "28\n",
      "30\n",
      "32\n",
      "34\n",
      "36\n",
      "38\n",
      "40\n",
      "42\n",
      "44\n",
      "46\n",
      "48\n",
      "50\n",
      "count--------> 25\n"
     ]
    }
   ],
   "source": [
    "x=1\n",
    "count=0\n",
    "while x<51:\n",
    "    if x%2==0:\n",
    "        print(x)\n",
    "        count=count+1\n",
    "    x=x+1 \n",
    "print(\"count-------->\",count)    \n"
   ]
  },
  {
   "cell_type": "code",
   "execution_count": 6,
   "id": "558deaa9",
   "metadata": {},
   "outputs": [
    {
     "name": "stdout",
     "output_type": "stream",
     "text": [
      "1\n",
      "3\n",
      "5\n",
      "7\n",
      "9\n",
      "11\n",
      "13\n",
      "15\n",
      "17\n",
      "19\n",
      "21\n",
      "23\n",
      "25\n",
      "27\n",
      "29\n",
      "31\n",
      "33\n",
      "35\n",
      "37\n",
      "39\n",
      "41\n",
      "43\n",
      "45\n",
      "47\n",
      "49\n",
      "count---------> 25\n"
     ]
    }
   ],
   "source": [
    "# wap to print odd number from 1 to 50\n",
    "count=0\n",
    "for i in range(1,51):\n",
    "    if i%2==1:\n",
    "        print(i)\n",
    "        count=count+1\n",
    "print(\"count--------->\",count)"
   ]
  },
  {
   "cell_type": "code",
   "execution_count": 5,
   "id": "5b294502",
   "metadata": {},
   "outputs": [
    {
     "name": "stdout",
     "output_type": "stream",
     "text": [
      "1\n",
      "3\n",
      "5\n",
      "7\n",
      "9\n",
      "11\n",
      "13\n",
      "15\n",
      "17\n",
      "19\n",
      "21\n",
      "23\n",
      "25\n",
      "27\n",
      "29\n",
      "31\n",
      "33\n",
      "35\n",
      "37\n",
      "39\n",
      "41\n",
      "43\n",
      "45\n",
      "47\n",
      "49\n",
      "count--------> 25\n"
     ]
    }
   ],
   "source": [
    "x=1\n",
    "count=0\n",
    "while x<51:\n",
    "    if x%2==1:\n",
    "        print(x)\n",
    "        count=count+1\n",
    "    x=x+1\n",
    "print(\"count-------->\",count)    "
   ]
  },
  {
   "cell_type": "code",
   "execution_count": null,
   "id": "d6c11167",
   "metadata": {},
   "outputs": [],
   "source": [
    "# wap to string reverse or not\n",
    "# wap to string palindrome or not"
   ]
  },
  {
   "cell_type": "code",
   "execution_count": 16,
   "id": "e112a417",
   "metadata": {},
   "outputs": [
    {
     "name": "stdout",
     "output_type": "stream",
     "text": [
      "enter String a=nitin\n",
      "nitin = nitin\n",
      "string is not reverse\n"
     ]
    }
   ],
   "source": [
    "a=input(\"enter String a=\")\n",
    "y=''\n",
    "for i in a:\n",
    "    y=i+y\n",
    "print(a,\"=\",y)\n",
    "if  a!=y:\n",
    "    print(\"string is reverse\")\n",
    "elif a==y:\n",
    "    print(\"string is not reverse\")"
   ]
  },
  {
   "cell_type": "code",
   "execution_count": 35,
   "id": "21c72271",
   "metadata": {},
   "outputs": [
    {
     "name": "stdout",
     "output_type": "stream",
     "text": [
      "Enter string a=wow\n",
      "wow\n",
      "wow = wow\n",
      "palindrome\n"
     ]
    }
   ],
   "source": [
    "a=input(\"Enter string a=\")\n",
    "b=\"\"\n",
    "for i in a :\n",
    "    b=i+b\n",
    "print(a)    \n",
    "print(a,\"=\",b)\n",
    "if a==b:\n",
    "    print(\"palindrome\")\n",
    "else:\n",
    "    print(\"not Palindrome\")\n",
    "    "
   ]
  },
  {
   "cell_type": "code",
   "execution_count": null,
   "id": "9d652b61",
   "metadata": {},
   "outputs": [],
   "source": []
  }
 ],
 "metadata": {
  "kernelspec": {
   "display_name": "Python 3 (ipykernel)",
   "language": "python",
   "name": "python3"
  },
  "language_info": {
   "codemirror_mode": {
    "name": "ipython",
    "version": 3
   },
   "file_extension": ".py",
   "mimetype": "text/x-python",
   "name": "python",
   "nbconvert_exporter": "python",
   "pygments_lexer": "ipython3",
   "version": "3.9.7"
  }
 },
 "nbformat": 4,
 "nbformat_minor": 5
}
